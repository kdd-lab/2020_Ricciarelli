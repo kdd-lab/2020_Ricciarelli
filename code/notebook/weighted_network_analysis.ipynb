{
 "cells": [
  {
   "cell_type": "markdown",
   "metadata": {},
   "source": [
    "# Imports"
   ]
  },
  {
   "cell_type": "code",
   "execution_count": 1,
   "metadata": {
    "ExecuteTime": {
     "end_time": "2020-03-17T08:54:37.721441Z",
     "start_time": "2020-03-17T08:54:31.532367Z"
    }
   },
   "outputs": [],
   "source": [
    "import matplotlib.pyplot as plt\n",
    "import networkx as nx\n",
    "import numpy as np\n",
    "import pandas as pd\n",
    "\n",
    "from tqdm import tqdm\n",
    "\n",
    "%matplotlib inline"
   ]
  },
  {
   "cell_type": "markdown",
   "metadata": {},
   "source": [
    "# Importing & Building the Network"
   ]
  },
  {
   "cell_type": "code",
   "execution_count": 2,
   "metadata": {
    "ExecuteTime": {
     "end_time": "2020-03-17T09:00:29.055735Z",
     "start_time": "2020-03-17T09:00:28.067770Z"
    }
   },
   "outputs": [
    {
     "name": "stderr",
     "output_type": "stream",
     "text": [
      "ADDING NODES: 100%|██████████| 184/184 [00:00<00:00, 149825.65it/s]\n",
      "CONNECTING NODES:  15%|█▍        | 14049/96185 [00:00<00:00, 140482.77it/s]"
     ]
    },
    {
     "name": "stdout",
     "output_type": "stream",
     "text": [
      "<class 'pandas.core.frame.DataFrame'>\n",
      "RangeIndex: 96185 entries, 0 to 96184\n",
      "Data columns (total 4 columns):\n",
      " #   Column  Non-Null Count  Dtype \n",
      "---  ------  --------------  ----- \n",
      " 0   from    96185 non-null  object\n",
      " 1   to      96185 non-null  object\n",
      " 2   year    96185 non-null  int64 \n",
      " 3   weight  96185 non-null  int64 \n",
      "dtypes: int64(2), object(2)\n",
      "memory usage: 2.9+ MB\n",
      "\n",
      "None\n",
      "\n"
     ]
    },
    {
     "name": "stderr",
     "output_type": "stream",
     "text": [
      "CONNECTING NODES: 100%|██████████| 96185/96185 [00:00<00:00, 146687.63it/s]\n"
     ]
    }
   ],
   "source": [
    "weighted_network = nx.MultiDiGraph()\n",
    "\n",
    "weighted_net_df = pd.read_csv('../../datasets/in/weighted_academic_graph.txt',\n",
    "                              sep='\\t', names=['from', 'to', 'year', 'weight'],\n",
    "                              dtype={'from': str, 'to': str, 'year': int,\n",
    "                                     'weight': int})\n",
    "\n",
    "print('\\n{}\\n'.format(weighted_net_df.info()))\n",
    "\n",
    "states = sorted(set(weighted_net_df['from']).union(set(weighted_net_df['to'])))\n",
    "mapping = dict()\n",
    "\n",
    "for index, state in enumerate(states):\n",
    "    mapping[state] = index\n",
    "\n",
    "for state in tqdm(states, desc='ADDING NODES'):\n",
    "    weighted_network.add_node(mapping[state], state=state)\n",
    "\n",
    "for row in tqdm(weighted_net_df.itertuples(index=False),\n",
    "                desc='CONNECTING NODES', total=96185):\n",
    "    weighted_network.add_edge(mapping[getattr(row, '_0')],\n",
    "                              mapping[getattr(row, 'to')],\n",
    "                              year=getattr(row, 'year'),\n",
    "                              weight=getattr(row, 'weight'))"
   ]
  },
  {
   "cell_type": "markdown",
   "metadata": {},
   "source": [
    "# Number of Nodes, Edges and Selfloops"
   ]
  },
  {
   "cell_type": "code",
   "execution_count": 3,
   "metadata": {
    "ExecuteTime": {
     "end_time": "2020-03-17T09:01:20.189384Z",
     "start_time": "2020-03-17T09:01:20.138111Z"
    }
   },
   "outputs": [
    {
     "name": "stdout",
     "output_type": "stream",
     "text": [
      "\n",
      "NODES: 184, EDGES: 96185\n",
      "\n",
      "NUMBER OF SELFLOOPS: 0\n",
      "\n"
     ]
    }
   ],
   "source": [
    "print('\\nNODES: {}, EDGES: {}\\n'.format(weighted_network.number_of_nodes(),\n",
    "                                        weighted_network.number_of_edges()))\n",
    "\n",
    "print('NUMBER OF SELFLOOPS: {}\\n'\n",
    "      .format(len([e for e in weighted_network.edges() if e[0] == e[1]])))"
   ]
  },
  {
   "cell_type": "markdown",
   "metadata": {},
   "source": [
    "# Network's representation"
   ]
  },
  {
   "cell_type": "code",
   "execution_count": null,
   "metadata": {
    "ExecuteTime": {
     "start_time": "2020-03-17T09:15:29.068Z"
    }
   },
   "outputs": [],
   "source": [
    "pos = nx.spring_layout(weighted_network, k=2.5)\n",
    "\n",
    "nx.draw_networkx_nodes(weighted_network, pos=pos,\n",
    "                       nodelist=dict(weighted_network.in_degree()).keys(),\n",
    "                       node_size=[in_d * 1 for in_d in\n",
    "                                  dict(weighted_network.in_degree()).values()],\n",
    "                       alpha=0.5)\n",
    "nx.draw_networkx_edges(weighted_network, pos, width=0.5, arrowsize=7,\n",
    "                       alpha=0.1)\n",
    "\n",
    "labels = dict()\n",
    "for n in weighted_network.nodes(data=True):\n",
    "    labels[n[0]] = n[1]['state']\n",
    "nx.draw_networkx_labels(weighted_network, pos, labels, font_size=3,\n",
    "                        font_color='#ff4d4d')\n",
    "\n",
    "plt.title(\"The Nodes' sizes correspond to their In-Degrees\")\n",
    "plt.suptitle('Original Network')\n",
    "plt.axis('off')\n",
    "plt.savefig('./images/graph.pdf', format='pdf')\n",
    "plt.close()"
   ]
  },
  {
   "cell_type": "markdown",
   "metadata": {},
   "source": [
    "# Degree distribution"
   ]
  },
  {
   "cell_type": "code",
   "execution_count": 4,
   "metadata": {
    "ExecuteTime": {
     "end_time": "2020-03-17T09:05:50.144395Z",
     "start_time": "2020-03-17T09:05:47.401315Z"
    }
   },
   "outputs": [
    {
     "name": "stdout",
     "output_type": "stream",
     "text": [
      "MAX DEGREE: 10018, MIN DEGREE: 1, AVERAGE DEGREE: 1045.4891304347825\n",
      "MAX IN DEGREE:4963, MIN IN DEGREE: 0, AVERAGE IN DEGREE: 522.7445652173913\n",
      "MAX OUT DEGREE: 5055, MIN OUT DEGREE: 0, AVERAGE OUT DEGREE: 522.7445652173913\n",
      "\n",
      "NODES WITH MAX DEGREE: ['United States'], NODES WITH MIN DEGREE: ['Aruba', 'Guinea']\n",
      "NODES WITH MAX IN DEGREE: ['United States'], NODES WITH MIN DEGREE: ['Aruba']\n",
      "NODES WITH MAX OUT DEGREE: ['United States'], NODES WITH MIN DEGREE: ['Guinea', 'Saint Lucia']\n"
     ]
    }
   ],
   "source": [
    "degree = sorted([d for n, d in weighted_network.degree()])\n",
    "in_degree = sorted([d for n, d in weighted_network.in_degree()])\n",
    "out_degree = sorted([d for n, d in weighted_network.out_degree()])\n",
    "\n",
    "print('MAX DEGREE: {}, MIN DEGREE: {}, AVERAGE DEGREE: {}\\n'\n",
    "      'MAX IN DEGREE:{}, MIN IN DEGREE: {}, AVERAGE IN DEGREE: {}\\n'\n",
    "      'MAX OUT DEGREE: {}, MIN OUT DEGREE: {}, AVERAGE OUT DEGREE: {}\\n'\n",
    "      .format(max(degree), min(degree), np.mean(degree), max(in_degree),\n",
    "              min(in_degree), np.mean(in_degree), max(out_degree),\n",
    "              min(out_degree), np.mean(out_degree)))\n",
    "\n",
    "for i, d in enumerate([degree, in_degree, out_degree]):\n",
    "    title, file_name, d_type = None, None, None\n",
    "    max_d, min_d = max(d), min(d)\n",
    "    max_nodes, min_nodes = list(), list()\n",
    "\n",
    "    if i == 0:\n",
    "        title, file_name = 'Degree distribution', './images/degree_hist.pdf'\n",
    "        d_type = 'DEGREE'\n",
    "        max_nodes = [d['state'] for n, d in weighted_network.nodes(data=True)\n",
    "                     if weighted_network.degree(n) == max_d]\n",
    "        min_nodes = [d['state'] for n, d in weighted_network.nodes(data=True)\n",
    "                     if weighted_network.degree(n) == min_d]\n",
    "    elif i == 1:\n",
    "        title, file_name = \\\n",
    "            'Incoming Degrees distribution', './images/indegree_hist.pdf'\n",
    "        d_type = 'IN DEGREE'\n",
    "        max_nodes = [d['state'] for n, d in weighted_network.nodes(data=True)\n",
    "                     if weighted_network.in_degree(n) == max_d]\n",
    "        min_nodes = [d['state'] for n, d in weighted_network.nodes(data=True)\n",
    "                     if weighted_network.in_degree(n) == min_d]\n",
    "    else:\n",
    "        title, file_name = \\\n",
    "            'Outgoing Degrees distribution', './images/outdegree_hist.pdf'\n",
    "        d_type = 'OUT DEGREE'\n",
    "        max_nodes = [d['state'] for n, d in weighted_network.nodes(data=True)\n",
    "                     if weighted_network.out_degree(n) == max_d]\n",
    "        min_nodes = [d['state'] for n, d in weighted_network.nodes(data=True)\n",
    "                     if weighted_network.out_degree(n) == min_d]\n",
    "\n",
    "    print('NODES WITH MAX {}: {}, NODES WITH MIN DEGREE: {}'\n",
    "          .format(d_type, max_nodes, min_nodes))\n",
    "\n",
    "    plt.hist(d, bins='sturges', density='True', cumulative=-1, log=True)\n",
    "    plt.title(title)\n",
    "    plt.xlabel(r'$k$')\n",
    "    plt.ylabel(r'$p_k$')\n",
    "    plt.savefig(file_name, format='pdf', bbox_inches='tight')\n",
    "    plt.close()"
   ]
  },
  {
   "cell_type": "markdown",
   "metadata": {},
   "source": [
    "# CONNECTEDNESS"
   ]
  },
  {
   "cell_type": "code",
   "execution_count": 6,
   "metadata": {
    "ExecuteTime": {
     "end_time": "2020-03-17T09:09:59.400078Z",
     "start_time": "2020-03-17T09:09:59.382914Z"
    }
   },
   "outputs": [
    {
     "name": "stdout",
     "output_type": "stream",
     "text": [
      "\n",
      "THE NETWORK IS WEAKLY CONNECTED WITH 1 CONNECTED COMPONENT(S)\n"
     ]
    }
   ],
   "source": [
    "if nx.is_weakly_connected(weighted_network):\n",
    "    if nx.is_strongly_connected(weighted_network):\n",
    "        cc = nx.number_strongly_connected_components(weighted_network)\n",
    "\n",
    "        print('\\nTHE NETWORK IS STRONGLY CONNECTED WITH {} '\n",
    "              'CONNECTED COMPONENT(S)'.format(cc))\n",
    "    else:\n",
    "        cc = nx.number_weakly_connected_components(weighted_network)\n",
    "\n",
    "        print('\\nTHE NETWORK IS WEAKLY CONNECTED WITH {} '\n",
    "              'CONNECTED COMPONENT(S)'.format(cc))"
   ]
  },
  {
   "cell_type": "markdown",
   "metadata": {},
   "source": [
    "# CLUSTERING COEFFICIENT"
   ]
  },
  {
   "cell_type": "code",
   "execution_count": 5,
   "metadata": {
    "ExecuteTime": {
     "end_time": "2020-03-17T09:08:23.298178Z",
     "start_time": "2020-03-17T09:07:45.987586Z"
    }
   },
   "outputs": [
    {
     "name": "stdout",
     "output_type": "stream",
     "text": [
      "\n",
      "AVERAGE CLUSTERING COEFFICIENT: 0.808497707955442\n",
      "\n"
     ]
    }
   ],
   "source": [
    "weighted_network_digraph = nx.DiGraph()\n",
    "\n",
    "for state in states:\n",
    "    weighted_network_digraph.add_node(mapping[state], state=state)\n",
    "\n",
    "for n_1 in weighted_network.nodes():\n",
    "    for n_2 in weighted_network.nodes():\n",
    "        data = None\n",
    "\n",
    "        if weighted_network.has_edge(n_1, n_2):\n",
    "            data = [e[2] for e in weighted_network.edges(n_1, data=True)\n",
    "                    if e[1] == n_2]\n",
    "\n",
    "            weighted_network_digraph.add_edge(n_1, n_2, data=data)\n",
    "\n",
    "pos = nx.spring_layout(weighted_network_digraph, k=2.5)\n",
    "\n",
    "nx.draw_networkx_nodes(weighted_network_digraph, pos,\n",
    "                       nodelist=dict(weighted_network_digraph.in_degree()).\n",
    "                       keys(),\n",
    "                       node_size=[in_d * 1 for in_d in\n",
    "                                  dict(weighted_network_digraph.in_degree()).\n",
    "                                  values()],\n",
    "                       alpha=0.6)\n",
    "nx.draw_networkx_edges(weighted_network_digraph, pos, width=0.5, arrowsize=7,\n",
    "                       alpha=0.1)\n",
    "\n",
    "labels = dict()\n",
    "for n in weighted_network_digraph.nodes(data=True):\n",
    "    labels[n[0]] = n[1]['state']\n",
    "nx.draw_networkx_labels(weighted_network_digraph, pos, labels, font_size=3,\n",
    "                        font_color='#ff4d4d')\n",
    "\n",
    "plt.title(\"The Nodes' sizes correspond to their In-Degrees\")\n",
    "plt.suptitle('Condensed Network')\n",
    "plt.axis('off')\n",
    "plt.savefig('./images/graph_condensed.pdf', format='pdf')\n",
    "plt.close()\n",
    "\n",
    "plt.hist(nx.clustering(weighted_network_digraph).values(), bins='sturges')\n",
    "plt.title('Clustering Coefficient per Node')\n",
    "plt.xlabel(r'$C_k$')\n",
    "plt.ylabel(r'$\\# k$')\n",
    "plt.savefig('./images/clustering_coefficient.pdf', format='pdf', \n",
    "            bbox_inches='tight')\n",
    "plt.close()\n",
    "\n",
    "print('\\nAVERAGE CLUSTERING COEFFICIENT: {}\\n'\n",
    "      .format(nx.average_clustering(weighted_network_digraph)))"
   ]
  },
  {
   "cell_type": "markdown",
   "metadata": {},
   "source": [
    "# SHORTEST PATHS"
   ]
  },
  {
   "cell_type": "code",
   "execution_count": 7,
   "metadata": {
    "ExecuteTime": {
     "end_time": "2020-03-17T09:10:47.768649Z",
     "start_time": "2020-03-17T09:10:45.778070Z"
    }
   },
   "outputs": [
    {
     "name": "stdout",
     "output_type": "stream",
     "text": [
      "AVERAGE SHORTEST PATH LENGTH: 1.7180743644571157\n"
     ]
    }
   ],
   "source": [
    "paths = nx.shortest_path(weighted_network)\n",
    "avg_sp_per_node = dict()\n",
    "\n",
    "for n_1 in weighted_network.nodes():\n",
    "    avg_sp_per_node[n_1] = list()\n",
    "\n",
    "    for edge in weighted_network.edges([n_1]):\n",
    "        if edge not in avg_sp_per_node[n_1]:\n",
    "            avg_sp_per_node[n_1].append(edge)\n",
    "\n",
    "    lengths = [len(paths[e[0]][e[1]]) for e in avg_sp_per_node[n_1]]\n",
    "\n",
    "    if len(lengths) == 0:\n",
    "        del avg_sp_per_node[n_1]\n",
    "    else:\n",
    "        avg_sp_per_node[n_1] = np.mean(lengths)\n",
    "\n",
    "plt.hist(avg_sp_per_node.values())\n",
    "plt.title('Average Shortest Path per Node')\n",
    "plt.xlabel(r'Length')\n",
    "plt.ylabel(r'# of Shortest Paths')\n",
    "plt.savefig('./images/avg_shortest_paths.pdf', format='pdf', \n",
    "            bbox_inches='tight')\n",
    "plt.close()\n",
    "\n",
    "print('AVERAGE SHORTEST PATH LENGTH: {}'\n",
    "      .format(nx.average_shortest_path_length(weighted_network)))"
   ]
  },
  {
   "cell_type": "code",
   "execution_count": null,
   "metadata": {},
   "outputs": [],
   "source": []
  }
 ],
 "metadata": {
  "kernelspec": {
   "display_name": "Python 3",
   "language": "python",
   "name": "python3"
  },
  "language_info": {
   "codemirror_mode": {
    "name": "ipython",
    "version": 3
   },
   "file_extension": ".py",
   "mimetype": "text/x-python",
   "name": "python",
   "nbconvert_exporter": "python",
   "pygments_lexer": "ipython3",
   "version": "3.7.5"
  },
  "varInspector": {
   "cols": {
    "lenName": 16,
    "lenType": 16,
    "lenVar": 40
   },
   "kernels_config": {
    "python": {
     "delete_cmd_postfix": "",
     "delete_cmd_prefix": "del ",
     "library": "var_list.py",
     "varRefreshCmd": "print(var_dic_list())"
    },
    "r": {
     "delete_cmd_postfix": ") ",
     "delete_cmd_prefix": "rm(",
     "library": "var_list.r",
     "varRefreshCmd": "cat(var_dic_list()) "
    }
   },
   "types_to_exclude": [
    "module",
    "function",
    "builtin_function_or_method",
    "instance",
    "_Feature"
   ],
   "window_display": false
  }
 },
 "nbformat": 4,
 "nbformat_minor": 4
}
