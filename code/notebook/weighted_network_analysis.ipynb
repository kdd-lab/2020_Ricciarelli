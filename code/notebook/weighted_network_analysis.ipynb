{
 "cells": [
  {
   "cell_type": "markdown",
   "metadata": {},
   "source": [
    "# Weighted Network Analysis\n",
    "\n",
    "With this notebook I provide an analysis of the weighted network contained in the file **weighted_academic_graph.txt**\n",
    ". In this network, each node represents a State, while an edge between two nodes represents the movement of a \n",
    "researcher from an institution to another. Both the nodes and the edges are enriched with some data, in particular, \n",
    "each node contains the **name** of the State it represents, while each edge contains the **year** of the movement and\n",
    "a **weight** parameter. The weight parameter is used for keeping track of the number of times the researcher moved\n",
    "from a State to another during the year represented by the year parameter. "
   ]
  },
  {
   "cell_type": "markdown",
   "metadata": {},
   "source": [
    "## Imports"
   ]
  },
  {
   "cell_type": "code",
   "execution_count": 1,
   "metadata": {
    "ExecuteTime": {
     "end_time": "2020-03-18T15:40:14.717921Z",
     "start_time": "2020-03-18T15:40:13.493249Z"
    }
   },
   "outputs": [],
   "source": [
    "import matplotlib as mpl\n",
    "import matplotlib.pyplot as plt\n",
    "import networkx as nx\n",
    "import numpy as np\n",
    "import pandas as pd\n",
    "\n",
    "from collections import Counter\n",
    "from tqdm import tqdm\n",
    "\n",
    "%matplotlib inline"
   ]
  },
  {
   "cell_type": "markdown",
   "metadata": {},
   "source": [
    "## Importing & Building the Network\n",
    "\n",
    "I decided to represent the network as a **multi directed weighted network**, using as weight for each edge the number \n",
    "of times a researcher moves between two States during the same year, as provided by the dataset."
   ]
  },
  {
   "cell_type": "code",
   "execution_count": 2,
   "metadata": {
    "ExecuteTime": {
     "end_time": "2020-03-18T15:40:18.542645Z",
     "start_time": "2020-03-18T15:40:17.781663Z"
    },
    "hide_input": false
   },
   "outputs": [
    {
     "name": "stderr",
     "output_type": "stream",
     "text": [
      "ADDING NODES: 100%|██████████| 184/184 [00:00<00:00, 141944.44it/s]\n",
      "CONNECTING NODES:  14%|█▍        | 13772/96185 [00:00<00:00, 137718.49it/s]"
     ]
    },
    {
     "name": "stdout",
     "output_type": "stream",
     "text": [
      "<class 'pandas.core.frame.DataFrame'>\n",
      "RangeIndex: 96185 entries, 0 to 96184\n",
      "Data columns (total 4 columns):\n",
      " #   Column  Non-Null Count  Dtype \n",
      "---  ------  --------------  ----- \n",
      " 0   from    96185 non-null  object\n",
      " 1   to      96185 non-null  object\n",
      " 2   year    96185 non-null  int64 \n",
      " 3   weight  96185 non-null  int64 \n",
      "dtypes: int64(2), object(2)\n",
      "memory usage: 2.9+ MB\n",
      "\n",
      "None\n",
      "\n"
     ]
    },
    {
     "name": "stderr",
     "output_type": "stream",
     "text": [
      "CONNECTING NODES: 100%|██████████| 96185/96185 [00:00<00:00, 149211.68it/s]\n"
     ]
    }
   ],
   "source": [
    "weighted_network = nx.MultiDiGraph()\n",
    "\n",
    "weighted_net_df = pd.read_csv('../../datasets/in/weighted_academic_graph.txt',\n",
    "                              sep='\\t', names=['from', 'to', 'year', 'weight'],\n",
    "                              dtype={'from': str, 'to': str, 'year': int,\n",
    "                                     'weight': int})\n",
    "\n",
    "print('\\n{}\\n'.format(weighted_net_df.info()))\n",
    "\n",
    "states = sorted(set(weighted_net_df['from']).union(set(weighted_net_df['to'])))\n",
    "mapping = dict()\n",
    "\n",
    "for index, state in enumerate(states):\n",
    "    mapping[state] = index\n",
    "\n",
    "for state in tqdm(states, desc='ADDING NODES'):\n",
    "    weighted_network.add_node(mapping[state], state=state)\n",
    "\n",
    "for row in tqdm(weighted_net_df.itertuples(index=False),\n",
    "                desc='CONNECTING NODES', total=96185):\n",
    "    weighted_network.add_edge(mapping[getattr(row, '_0')],\n",
    "                              mapping[getattr(row, 'to')],\n",
    "                              year=getattr(row, 'year'),\n",
    "                              weight=getattr(row, 'weight'))"
   ]
  },
  {
   "cell_type": "markdown",
   "metadata": {},
   "source": [
    "## Number of Nodes, Edges and Selfloops"
   ]
  },
  {
   "cell_type": "code",
   "execution_count": 3,
   "metadata": {
    "ExecuteTime": {
     "end_time": "2020-03-18T15:40:21.155755Z",
     "start_time": "2020-03-18T15:40:21.100907Z"
    }
   },
   "outputs": [
    {
     "name": "stdout",
     "output_type": "stream",
     "text": [
      "\n",
      "NODES: 184, EDGES: 96185\n",
      "\n",
      "NUMBER OF SELFLOOPS: 0\n",
      "\n"
     ]
    }
   ],
   "source": [
    "print('\\nNODES: {}, EDGES: {}\\n'.format(weighted_network.number_of_nodes(),\n",
    "                                        weighted_network.number_of_edges()))\n",
    "\n",
    "print('NUMBER OF SELFLOOPS: {}\\n'\n",
    "      .format(len([e for e in weighted_network.edges() if e[0] == e[1]])))"
   ]
  },
  {
   "cell_type": "markdown",
   "metadata": {},
   "source": [
    "## Network's representation\n",
    "\n",
    "For this visualization I decided to scale the network's node depending on their incoming degree, that is, \n",
    "representing nodes with an high incoming degree as bigger nodes and nodes with small incoming degree as smaller \n",
    "ones. The scale I used is a **linear** one, that is, it is the direct translation of the incoming degree of a node\n",
    "into its scale value. Using this type of scaling, if, for e.g., we have a node with incoming degree 5 we will have\n",
    "a scaling value of 5 for that node."
   ]
  },
  {
   "cell_type": "code",
   "execution_count": null,
   "metadata": {
    "ExecuteTime": {
     "end_time": "2020-03-17T17:26:15.762266Z",
     "start_time": "2020-03-17T17:17:31.200554Z"
    }
   },
   "outputs": [],
   "source": [
    "fig, axs = plt.subplots(nrows=1, ncols=1, figsize=(10, 10))\n",
    "\n",
    "pos = nx.spring_layout(weighted_network, k=2.5)\n",
    "\n",
    "nx.draw_networkx_nodes(weighted_network, pos=pos,\n",
    "                       nodelist=dict(weighted_network.in_degree()).keys(),\n",
    "                       node_size=[in_d * 1 for in_d in\n",
    "                                  dict(weighted_network.in_degree()).values()],\n",
    "                       alpha=0.5, ax=axs, node_color='#3296dc', \n",
    "                       edgecolors='#1f77b4')\n",
    "nx.draw_networkx_edges(weighted_network, pos, width=0.5, arrowsize=7,\n",
    "                       alpha=0.1, ax=axs)\n",
    "\n",
    "labels = dict()\n",
    "for n in weighted_network.nodes(data=True):\n",
    "    labels[n[0]] = n[1]['state']\n",
    "nx.draw_networkx_labels(weighted_network, pos, labels, font_size=3,\n",
    "                        font_color='#ff4d4d', ax=axs)\n",
    "\n",
    "fig.suptitle('Weighted Network', fontsize=20)\n",
    "axs.set_title(\"The Nodes' sizes correspond to their Incoming Degrees\",\n",
    "             fontsize=14)\n",
    "fig.savefig('./images/graph.pdf', format='pdf')"
   ]
  },
  {
   "cell_type": "markdown",
   "metadata": {},
   "source": [
    "# Degree distribution\n",
    "\n",
    "In order to study the degree distribution for the weighted network, I decided to plot the degrees, incoming \n",
    "degrees and outgoing degrees of the network's nodes both as histograms and scatterplots. The plots show two\n",
    "slightly different approaches to visualize the probability density fuction for the network's nodes degrees, \n",
    "incoming degrees and outgoing degrees."
   ]
  },
  {
   "cell_type": "code",
   "execution_count": 4,
   "metadata": {
    "ExecuteTime": {
     "end_time": "2020-03-18T15:40:30.283356Z",
     "start_time": "2020-03-18T15:40:27.086597Z"
    }
   },
   "outputs": [
    {
     "name": "stdout",
     "output_type": "stream",
     "text": [
      "NODES WITH MAX DEGREE: ['United States'], NODES WITH MIN DEGREE: ['Aruba', 'Guinea']\n",
      "NODES WITH MAX IN DEGREE: ['United States'], NODES WITH MIN DEGREE: ['Aruba']\n",
      "NODES WITH MAX OUT DEGREE: ['United States'], NODES WITH MIN DEGREE: ['Guinea', 'Saint Lucia']\n"
     ]
    },
    {
     "data": {
      "image/png": "[encoded data removed]",
      "text/plain": [
       "<Figure size 936x504 with 3 Axes>"
      ]
     },
     "metadata": {
      "needs_background": "light"
     },
     "output_type": "display_data"
    }
   ],
   "source": [
    "degree = sorted([d for n, d in weighted_network.degree()])\n",
    "in_degree = sorted([d for n, d in weighted_network.in_degree()])\n",
    "out_degree = sorted([d for n, d in weighted_network.out_degree()])\n",
    "\n",
    "fig, axs = plt.subplots(nrows=1, ncols=3, sharey=True, figsize=(13, 7))\n",
    "fig.suptitle(\n",
    "    'Degree, Incoming Degree and Outgoing Degree Distributions Histograms', \n",
    "    fontsize=20)\n",
    "\n",
    "for i, d in enumerate([degree, in_degree, out_degree]):\n",
    "    title, d_type = None, None\n",
    "    max_d, min_d = max(d), min(d)\n",
    "    max_nodes, min_nodes = list(), list()\n",
    "\n",
    "    if i == 0:\n",
    "        title = 'Degree distribution'\n",
    "        d_type = 'DEGREE'\n",
    "        max_nodes = [d['state'] for n, d in weighted_network.nodes(data=True)\n",
    "                     if weighted_network.degree(n) == max_d]\n",
    "        min_nodes = [d['state'] for n, d in weighted_network.nodes(data=True)\n",
    "                     if weighted_network.degree(n) == min_d]\n",
    "    elif i == 1:\n",
    "        title = 'Incoming Degrees distribution'\n",
    "        d_type = 'IN DEGREE'\n",
    "        max_nodes = [d['state'] for n, d in weighted_network.nodes(data=True)\n",
    "                     if weighted_network.in_degree(n) == max_d]\n",
    "        min_nodes = [d['state'] for n, d in weighted_network.nodes(data=True)\n",
    "                     if weighted_network.in_degree(n) == min_d]\n",
    "    else:\n",
    "        title = 'Outgoing Degrees distribution'\n",
    "        d_type = 'OUT DEGREE'\n",
    "        max_nodes = [d['state'] for n, d in weighted_network.nodes(data=True)\n",
    "                     if weighted_network.out_degree(n) == max_d]\n",
    "        min_nodes = [d['state'] for n, d in weighted_network.nodes(data=True)\n",
    "                     if weighted_network.out_degree(n) == min_d]\n",
    "\n",
    "    print('NODES WITH MAX {}: {}, NODES WITH MIN DEGREE: {}'\n",
    "          .format(d_type, max_nodes, min_nodes))\n",
    "\n",
    "    axs[i].hist(d, bins='sturges', density='True', cumulative=-1, log=True,\n",
    "               zorder=2, color='#3296dc', edgecolor='#1f77b4')\n",
    "    axs[i].set_title(title, fontsize=14)\n",
    "    axs[i].set_xlabel(r'$k$', fontsize=14)\n",
    "    axs[i].set_ylabel(r'$p_k$', fontsize=14)\n",
    "    axs[i].grid(axis='y', linestyle='--', color='black', zorder=1)\n",
    "    axs[i].text(0.65, 0.75, 'mean = {}\\nmax = {}\\nmin = {}'\n",
    "                .format(round(np.mean(d), 2), max(d), min(d)),\n",
    "               bbox=dict(facecolor='white', edgecolor='black'),\n",
    "               transform=axs[i].transAxes)\n",
    "\n",
    "fig.tight_layout(rect=[0, 0.03, 1, 0.90])\n",
    "\n",
    "fig.savefig('./images/degrees_distributions.pdf', format='pdf', \n",
    "            bbox_inches='tight')"
   ]
  },
  {
   "cell_type": "code",
   "execution_count": 5,
   "metadata": {
    "ExecuteTime": {
     "end_time": "2020-03-18T15:40:37.219526Z",
     "start_time": "2020-03-18T15:40:34.334117Z"
    }
   },
   "outputs": [
    {
     "data": {
      "image/png": "[encoded data removed]",
      "text/plain": [
       "<Figure size 936x504 with 3 Axes>"
      ]
     },
     "metadata": {
      "needs_background": "light"
     },
     "output_type": "display_data"
    }
   ],
   "source": [
    "fig, axs = plt.subplots(nrows=1, ncols=3, sharey=True,figsize=(13, 7))\n",
    "fig.suptitle('Degree, Incoming Degree and Outgoing Degree Distributions', \n",
    "    fontsize=20)\n",
    "\n",
    "for i, d in enumerate([degree, in_degree, out_degree]):\n",
    "    title = None\n",
    "\n",
    "    if i == 0:\n",
    "        title = 'Degree distribution'\n",
    "    elif i == 1:\n",
    "        title = 'Incoming Degrees distribution'\n",
    "    else:\n",
    "        title = 'Outgoing Degrees distribution'\n",
    "    \n",
    "    c, countdict_pdf = Counter(d), dict()\n",
    "    \n",
    "    for deg in np.arange(min(d), max(d) + 1):\n",
    "        countdict_pdf[deg] = (c[deg] / len(d)) if deg in c.keys() else 0.\n",
    "\n",
    "    axs[i].scatter(list(countdict_pdf.keys()), list(countdict_pdf.values()),\n",
    "                   zorder=2, alpha=0.7,color='#3296dc', edgecolor='#1f77b4')\n",
    "    axs[i].set_title(title, fontsize=14)\n",
    "    axs[i].set_xlabel(r'$k$', fontsize=14)\n",
    "    axs[i].set_ylabel(r'$p_k$', fontsize=14)\n",
    "    axs[i].grid(axis='y', linestyle='--', color='black', zorder=1)\n",
    "    axs[i].text(0.55, 0.75, 'mean = {}\\nmax = {}\\nmin = {}'\n",
    "                .format(round(np.mean(d), 2), max(d), min(d)),\n",
    "               bbox=dict(facecolor='white', edgecolor='black'),\n",
    "               transform=axs[i].transAxes)\n",
    "\n",
    "fig.tight_layout(rect=[0, 0.03, 1, 0.90])\n",
    "\n",
    "fig.savefig('./images/degrees_distributions_scatter.pdf', format='pdf', \n",
    "            bbox_inches='tight')"
   ]
  },
  {
   "cell_type": "markdown",
   "metadata": {},
   "source": [
    "As we can see, by observing this two types of visualization, we can conclude that the weighted network is, in \n",
    "fact, a **scale-free network**, that is, a network in which the majority of nodes have small degrees, while a \n",
    "small subset of nodes have high degrees."
   ]
  },
  {
   "cell_type": "markdown",
   "metadata": {},
   "source": [
    "# CONNECTEDNESS\n",
    "\n",
    "By studying the network's connectedness we discover that the network is not strongly connected. However, by \n",
    "relaxing the constraint, we discover that the network is weakly connected with 1 connected component that \n",
    "contains all the network's nodes."
   ]
  },
  {
   "cell_type": "code",
   "execution_count": null,
   "metadata": {
    "ExecuteTime": {
     "end_time": "2020-03-17T17:26:19.022718Z",
     "start_time": "2020-03-17T17:26:19.004346Z"
    }
   },
   "outputs": [],
   "source": [
    "if nx.is_weakly_connected(weighted_network):\n",
    "    if nx.is_strongly_connected(weighted_network):\n",
    "        cc = nx.number_strongly_connected_components(weighted_network)\n",
    "\n",
    "        print('\\nTHE NETWORK IS STRONGLY CONNECTED WITH {} '\n",
    "              'CONNECTED COMPONENT(S)'.format(cc))\n",
    "    else:\n",
    "        cc = nx.number_weakly_connected_components(weighted_network)\n",
    "\n",
    "        print('\\nTHE NETWORK IS WEAKLY CONNECTED WITH {} '\n",
    "              'CONNECTED COMPONENT(S)'.format(cc))"
   ]
  },
  {
   "cell_type": "markdown",
   "metadata": {},
   "source": [
    "# CLUSTERING COEFFICIENT\n",
    "\n",
    "Since the network is multi directed, we can not directly study the clustering coefficient for its nodes. In order\n",
    "to circumvent this problem I modified the network's structure by condensing its edges. The edges of the \n",
    "**condensed network** represent one or more edges of the original one, so if, for e.g., in the original network\n",
    "there are three distinct edges connecting a node to another, in the condensed one there will be only one edge\n",
    "which contains the data of the three distinct edges."
   ]
  },
  {
   "cell_type": "code",
   "execution_count": null,
   "metadata": {
    "ExecuteTime": {
     "end_time": "2020-03-18T15:09:59.269555Z",
     "start_time": "2020-03-18T15:09:00.542274Z"
    }
   },
   "outputs": [],
   "source": [
    "weighted_network_digraph = nx.DiGraph()\n",
    "\n",
    "for state in states:\n",
    "    weighted_network_digraph.add_node(mapping[state], state=state)\n",
    "\n",
    "for n_1 in weighted_network.nodes():\n",
    "    for n_2 in weighted_network.nodes():\n",
    "        data = None\n",
    "\n",
    "        if weighted_network.has_edge(n_1, n_2):\n",
    "            data = [e[2] for e in weighted_network.edges(n_1, data=True)\n",
    "                    if e[1] == n_2]\n",
    "\n",
    "            weighted_network_digraph.add_edge(n_1, n_2, data=data)\n",
    "\n",
    "fig, axs = plt.subplots(nrows=1, ncols=1, figsize=(10, 10))\n",
    "\n",
    "pos = nx.spring_layout(weighted_network_digraph, k=2.5)\n",
    "\n",
    "nx.draw_networkx_nodes(weighted_network_digraph, pos,\n",
    "                       nodelist=dict(weighted_network_digraph.in_degree()).\n",
    "                       keys(),\n",
    "                       node_size=[in_d * 1 for in_d in\n",
    "                                  dict(weighted_network_digraph.in_degree()).\n",
    "                                  values()], ax=axs, node_color='#3296dc',\n",
    "                      edgecolors='#1f77b4')\n",
    "nx.draw_networkx_edges(weighted_network_digraph, pos, width=0.5, arrowsize=7,\n",
    "                       alpha=0.1, ax=axs)\n",
    "\n",
    "labels = dict()\n",
    "for n in weighted_network_digraph.nodes(data=True):\n",
    "    labels[n[0]] = n[1]['state']\n",
    "nx.draw_networkx_labels(weighted_network_digraph, pos, labels, font_size=3,\n",
    "                        font_color='#ff4d4d', ax=axs)\n",
    "\n",
    "fig.suptitle('Condensed Network', fontsize=20)\n",
    "axs.set_title(\"The Nodes' sizes correspond to their Incoming Degrees\",\n",
    "             fontsize=14)\n",
    "fig.savefig('./images/graph_condensed.pdf', format='pdf')"
   ]
  },
  {
   "cell_type": "code",
   "execution_count": null,
   "metadata": {
    "ExecuteTime": {
     "end_time": "2020-03-18T15:32:27.533256Z",
     "start_time": "2020-03-18T15:32:26.010650Z"
    }
   },
   "outputs": [],
   "source": [
    "ccs = nx.clustering(weighted_network_digraph).values()\n",
    "mean_cc = np.round(nx.average_clustering(weighted_network_digraph), 2)\n",
    "\n",
    "fig, axs = plt.subplots(nrows=1, ncols=1, figsize=(10, 5))\n",
    "\n",
    "axs.hist(ccs, bins='sturges', zorder=2, color='#3296dc', edgecolor='#1f77b4')\n",
    "axs.text(0.55, 0.70, 'mean = {}\\nmax = {}\\nmin = {}'\n",
    "         .format(mean_cc, max(list(ccs)), min(list(ccs))),\n",
    "         bbox = dict(facecolor='white', edgecolor='black'),\n",
    "         transform = axs.transAxes)\n",
    "axs.set_title('Clustering Coefficient per Node', fontsize = 14)\n",
    "axs.set_xlabel(r'$C_k$', fontsize = 14)\n",
    "axs.set_ylabel(r'$\\# k$', fontsize = 14)\n",
    "axs.grid(axis = 'y', linestyle = '--', color = 'black', zorder = 1)\n",
    "\n",
    "fig.tight_layout()\n",
    "fig.savefig('./images/clustering_coefficient.pdf', format = 'pdf',\n",
    "            bbox_inches='tight')"
   ]
  },
  {
   "cell_type": "markdown",
   "metadata": {},
   "source": [
    "# SHORTEST PATHS"
   ]
  },
  {
   "cell_type": "code",
   "execution_count": null,
   "metadata": {
    "ExecuteTime": {
     "end_time": "2020-03-18T15:37:35.629449Z",
     "start_time": "2020-03-18T15:37:33.550309Z"
    }
   },
   "outputs": [],
   "source": [
    "paths = nx.shortest_path(weighted_network)\n",
    "avg_sp_per_node = dict()\n",
    "\n",
    "for n_1 in weighted_network.nodes():\n",
    "    avg_sp_per_node[n_1] = list()\n",
    "\n",
    "    for edge in weighted_network.edges([n_1]):\n",
    "        if edge not in avg_sp_per_node[n_1]:\n",
    "            avg_sp_per_node[n_1].append(edge)\n",
    "\n",
    "    lengths = [len(paths[e[0]][e[1]]) for e in avg_sp_per_node[n_1]]\n",
    "\n",
    "    if len(lengths) == 0:\n",
    "        del avg_sp_per_node[n_1]\n",
    "    else:\n",
    "        avg_sp_per_node[n_1] = np.mean(lengths)\n",
    "\n",
    "fig, axs = plt.subplots(nrows=1, ncols=1, figsize=(10, 5))\n",
    "\n",
    "axs.hist(avg_sp_per_node.values(), zorder=2, color='#3296dc', \n",
    "         edgecolor='#1f77b4')\n",
    "axs.text(0.15, 0.70, 'mean = {}'\n",
    "         .format(np.round(nx.average_shortest_path_length(weighted_network), 2)),\n",
    "         bbox = dict(facecolor='white', edgecolor='black'),\n",
    "         transform = axs.transAxes)\n",
    "axs.set_title('Average Shortest Path per Node', fontsize=14)\n",
    "axs.set_xlabel(r'Length', fontsize=14)\n",
    "axs.set_ylabel(r'# of Shortest Paths', fontsize=14)\n",
    "axs.grid(axis='y', linestyle='--', color='black', zorder=1)\n",
    "\n",
    "fig.tight_layout()\n",
    "fig.savefig('./images/avg_shortest_paths.pdf', format='pdf', \n",
    "            bbox_inches='tight')"
   ]
  },
  {
   "cell_type": "code",
   "execution_count": null,
   "metadata": {},
   "outputs": [],
   "source": []
  }
 ],
 "metadata": {
  "kernelspec": {
   "display_name": "Python 3",
   "language": "python",
   "name": "python3"
  },
  "language_info": {
   "codemirror_mode": {
    "name": "ipython",
    "version": 3
   },
   "file_extension": ".py",
   "mimetype": "text/x-python",
   "name": "python",
   "nbconvert_exporter": "python",
   "pygments_lexer": "ipython3",
   "version": "3.7.5"
  },
  "varInspector": {
   "cols": {
    "lenName": 16,
    "lenType": 16,
    "lenVar": 40
   },
   "kernels_config": {
    "python": {
     "delete_cmd_postfix": "",
     "delete_cmd_prefix": "del ",
     "library": "var_list.py",
     "varRefreshCmd": "print(var_dic_list())"
    },
    "r": {
     "delete_cmd_postfix": ") ",
     "delete_cmd_prefix": "rm(",
     "library": "var_list.r",
     "varRefreshCmd": "cat(var_dic_list()) "
    }
   },
   "types_to_exclude": [
    "module",
    "function",
    "builtin_function_or_method",
    "instance",
    "_Feature"
   ],
   "window_display": false
  }
 },
 "nbformat": 4,
 "nbformat_minor": 4
}
